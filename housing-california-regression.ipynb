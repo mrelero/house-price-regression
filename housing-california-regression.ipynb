{
 "cells": [
  {
   "cell_type": "code",
   "execution_count": 1,
   "metadata": {},
   "outputs": [
    {
     "data": {
      "text/html": [
       "<div>\n",
       "<style scoped>\n",
       "    .dataframe tbody tr th:only-of-type {\n",
       "        vertical-align: middle;\n",
       "    }\n",
       "\n",
       "    .dataframe tbody tr th {\n",
       "        vertical-align: top;\n",
       "    }\n",
       "\n",
       "    .dataframe thead th {\n",
       "        text-align: right;\n",
       "    }\n",
       "</style>\n",
       "<table border=\"1\" class=\"dataframe\">\n",
       "  <thead>\n",
       "    <tr style=\"text-align: right;\">\n",
       "      <th></th>\n",
       "      <th>MedHouseVal</th>\n",
       "    </tr>\n",
       "  </thead>\n",
       "  <tbody>\n",
       "    <tr>\n",
       "      <th>0</th>\n",
       "      <td>4.526</td>\n",
       "    </tr>\n",
       "    <tr>\n",
       "      <th>1</th>\n",
       "      <td>3.585</td>\n",
       "    </tr>\n",
       "    <tr>\n",
       "      <th>2</th>\n",
       "      <td>3.521</td>\n",
       "    </tr>\n",
       "    <tr>\n",
       "      <th>3</th>\n",
       "      <td>3.413</td>\n",
       "    </tr>\n",
       "    <tr>\n",
       "      <th>4</th>\n",
       "      <td>3.422</td>\n",
       "    </tr>\n",
       "  </tbody>\n",
       "</table>\n",
       "</div>"
      ],
      "text/plain": [
       "   MedHouseVal\n",
       "0        4.526\n",
       "1        3.585\n",
       "2        3.521\n",
       "3        3.413\n",
       "4        3.422"
      ]
     },
     "execution_count": 1,
     "metadata": {},
     "output_type": "execute_result"
    }
   ],
   "source": [
    "## Bibliotecas\n",
    "\n",
    "import pandas as pd\n",
    "import numpy as np\n",
    "import matplotlib.pyplot as plt\n",
    "from sklearn.datasets import fetch_california_housing\n",
    "import missingno as msn\n",
    "import seaborn as sns\n",
    "\n",
    "\n",
    "\n",
    "housing = fetch_california_housing()\n",
    "data_housing = pd.DataFrame(data=housing.data, columns=housing.feature_names)\n",
    "data_housing_target = pd.DataFrame(data=housing.target, columns=housing.target_names)\n",
    "data_housing.head()\n",
    "data_housing_target.head()"
   ]
  },
  {
   "cell_type": "markdown",
   "metadata": {},
   "source": [
    "# Import Sklearn "
   ]
  },
  {
   "cell_type": "code",
   "execution_count": 25,
   "metadata": {},
   "outputs": [],
   "source": [
    "from sklearn.model_selection import train_test_split\n",
    "from sklearn import svm\n",
    "from sklearn import metrics\n",
    "from sklearn.metrics import mean_squared_error\n",
    "from sklearn.linear_model import LinearRegression\n",
    "from sklearn.ensemble import RandomForestRegressor\n",
    "from sklearn.model_selection import GridSearchCV\n",
    "from sklearn import svm\n",
    "from sklearn.tree import DecisionTreeRegressor"
   ]
  },
  {
   "cell_type": "markdown",
   "metadata": {},
   "source": [
    "# Split Data - Trainning and Tests"
   ]
  },
  {
   "cell_type": "code",
   "execution_count": 3,
   "metadata": {},
   "outputs": [],
   "source": [
    "X_train, X_test, y_train, y_test = train_test_split(data_housing, data_housing_target, test_size=0.3,random_state=109) "
   ]
  },
  {
   "cell_type": "markdown",
   "metadata": {},
   "source": [
    "# Regressão Linear"
   ]
  },
  {
   "cell_type": "code",
   "execution_count": 10,
   "metadata": {},
   "outputs": [
    {
     "name": "stdout",
     "output_type": "stream",
     "text": [
      "MSE =  0.554866775996053\n",
      "RMSE =  0.7448938018241614\n"
     ]
    }
   ],
   "source": [
    "lin_reg = LinearRegression()\n",
    "lin_reg.fit(X_train, y_train)\n",
    "y_pred = lin_reg.predict(X_test)\n",
    "\n",
    "lin_mse = mean_squared_error(y_test, y_pred)\n",
    "\n",
    "print(\"MSE = \", lin_mse)\n",
    "print(\"RMSE = \", np.sqrt(lin_mse))"
   ]
  },
  {
   "cell_type": "markdown",
   "metadata": {},
   "source": [
    "# Random Forest"
   ]
  },
  {
   "cell_type": "code",
   "execution_count": 16,
   "metadata": {},
   "outputs": [
    {
     "name": "stdout",
     "output_type": "stream",
     "text": [
      "MSE =  0.25188588101992576\n",
      "RMSE =  0.5018823378242412\n"
     ]
    }
   ],
   "source": [
    "rf_reg = RandomForestRegressor()\n",
    "rf_reg.fit(X_train, y_train.values.ravel())\n",
    "y_pred = rf_reg.predict(X_test)\n",
    "\n",
    "lin_mse = mean_squared_error(y_test, y_pred)\n",
    "\n",
    "print(\"MSE = \", lin_mse)\n",
    "print(\"RMSE = \", np.sqrt(lin_mse))"
   ]
  },
  {
   "cell_type": "markdown",
   "metadata": {},
   "source": [
    "## Grid Search"
   ]
  },
  {
   "cell_type": "code",
   "execution_count": 19,
   "metadata": {},
   "outputs": [
    {
     "data": {
      "text/plain": [
       "RandomForestRegressor(max_features=4, n_estimators=60)"
      ]
     },
     "execution_count": 19,
     "metadata": {},
     "output_type": "execute_result"
    }
   ],
   "source": [
    "param_grid = [\n",
    "{'n_estimators': [3, 10, 30, 60], 'max_features': [2, 4, 6, 8]},\n",
    "{'bootstrap': [False], 'n_estimators': [3, 10], 'max_features': [2, 3, 4]},]\n",
    "forest_reg = RandomForestRegressor()\n",
    "grid_search = GridSearchCV(forest_reg, param_grid, cv=5,\n",
    "scoring='neg_mean_squared_error',\n",
    "return_train_score=True)\n",
    "grid_search.fit(X_train, y_train.values.ravel())\n",
    "\n",
    "\n",
    "\n",
    "\n",
    "forest_reg_opt = RandomForestRegressor()\n",
    "forest_reg_opt.set_params(**grid_search.best_params_)\n",
    "\n"
   ]
  },
  {
   "cell_type": "code",
   "execution_count": 20,
   "metadata": {},
   "outputs": [
    {
     "name": "stdout",
     "output_type": "stream",
     "text": [
      "MSE =  0.24689040325746214\n",
      "RMSE =  0.4968806730568841\n"
     ]
    }
   ],
   "source": [
    "forest_reg_opt.fit(X_train, y_train.values.ravel())\n",
    "y_pred = forest_reg_opt.predict(X_test)\n",
    "\n",
    "lin_mse = mean_squared_error(y_test, y_pred)\n",
    "\n",
    "print(\"MSE = \", lin_mse)\n",
    "print(\"RMSE = \", np.sqrt(lin_mse))"
   ]
  },
  {
   "cell_type": "markdown",
   "metadata": {},
   "source": [
    "# SVM - Support Vector Machines"
   ]
  },
  {
   "cell_type": "code",
   "execution_count": 24,
   "metadata": {},
   "outputs": [
    {
     "name": "stdout",
     "output_type": "stream",
     "text": [
      "MSE =  1.3799652101364526\n",
      "RMSE =  1.1747192048044726\n"
     ]
    }
   ],
   "source": [
    "svm_reg = svm.SVR()\n",
    "svm_reg.fit(X_train, y_train.values.ravel())\n",
    "y_pred = svm_reg.predict(X_test)\n",
    "\n",
    "lin_mse = mean_squared_error(y_test, y_pred)\n",
    "\n",
    "print(\"MSE = \", lin_mse)\n",
    "print(\"RMSE = \", np.sqrt(lin_mse))"
   ]
  },
  {
   "cell_type": "markdown",
   "metadata": {},
   "source": [
    "# Decision Tree"
   ]
  },
  {
   "cell_type": "code",
   "execution_count": 26,
   "metadata": {},
   "outputs": [
    {
     "name": "stdout",
     "output_type": "stream",
     "text": [
      "MSE =  0.512067449461434\n",
      "RMSE =  0.7155888829917874\n"
     ]
    }
   ],
   "source": [
    "tree_reg = DecisionTreeRegressor()\n",
    "tree_reg.fit(X_train, y_train.values.ravel())\n",
    "y_pred = tree_reg.predict(X_test)\n",
    "\n",
    "lin_mse = mean_squared_error(y_test, y_pred)\n",
    "\n",
    "print(\"MSE = \", lin_mse)\n",
    "print(\"RMSE = \", np.sqrt(lin_mse))"
   ]
  },
  {
   "cell_type": "markdown",
   "metadata": {},
   "source": [
    "## Grid Search"
   ]
  },
  {
   "cell_type": "code",
   "execution_count": 32,
   "metadata": {},
   "outputs": [
    {
     "name": "stderr",
     "output_type": "stream",
     "text": [
      "C:\\Users\\Matheus\\AppData\\Local\\Programs\\Python\\Python310\\lib\\site-packages\\sklearn\\model_selection\\_validation.py:372: FitFailedWarning: \n",
      "240 fits failed out of a total of 720.\n",
      "The score on these train-test partitions for these parameters will be set to nan.\n",
      "If these failures are not expected, you can try to debug them by setting error_score='raise'.\n",
      "\n",
      "Below are more details about the failures:\n",
      "--------------------------------------------------------------------------------\n",
      "240 fits failed with the following error:\n",
      "Traceback (most recent call last):\n",
      "  File \"C:\\Users\\Matheus\\AppData\\Local\\Programs\\Python\\Python310\\lib\\site-packages\\sklearn\\model_selection\\_validation.py\", line 680, in _fit_and_score\n",
      "    estimator.fit(X_train, y_train, **fit_params)\n",
      "  File \"C:\\Users\\Matheus\\AppData\\Local\\Programs\\Python\\Python310\\lib\\site-packages\\sklearn\\tree\\_classes.py\", line 1315, in fit\n",
      "    super().fit(\n",
      "  File \"C:\\Users\\Matheus\\AppData\\Local\\Programs\\Python\\Python310\\lib\\site-packages\\sklearn\\tree\\_classes.py\", line 306, in fit\n",
      "    raise ValueError(\"max_depth must be greater than zero. \")\n",
      "ValueError: max_depth must be greater than zero. \n",
      "\n",
      "  warnings.warn(some_fits_failed_message, FitFailedWarning)\n",
      "C:\\Users\\Matheus\\AppData\\Local\\Programs\\Python\\Python310\\lib\\site-packages\\sklearn\\model_selection\\_search.py:969: UserWarning: One or more of the test scores are non-finite: [        nan         nan         nan         nan         nan         nan\n",
      "         nan         nan         nan         nan         nan         nan\n",
      " -0.5161291  -0.71437818 -0.51618407 -0.68242598 -0.51691241 -0.74840227\n",
      " -0.51696738 -0.76418586 -0.51704718 -0.68094996 -0.51704718 -0.70842858\n",
      " -0.425274   -0.49142737 -0.41865593 -0.51184626 -0.41404954 -0.46824432\n",
      " -0.41041855 -0.49817903 -0.4037706  -0.54324764 -0.40342909 -0.50416404\n",
      "         nan         nan         nan         nan         nan         nan\n",
      "         nan         nan         nan         nan         nan         nan\n",
      " -0.5153345  -0.68546759 -0.51618407 -0.70629669 -0.5166606  -0.72083815\n",
      " -0.51696738 -0.72669424 -0.51704718 -0.66205398 -0.51704718 -0.70708655\n",
      " -0.42403778 -0.52798936 -0.41908301 -0.52225887 -0.4174191  -0.52878074\n",
      " -0.41110312 -0.52375384 -0.4040783  -0.4915618  -0.40337377 -0.49344351\n",
      "         nan         nan         nan         nan         nan         nan\n",
      "         nan         nan         nan         nan         nan         nan\n",
      " -0.5304984  -0.73609932 -0.53135291 -0.73218741 -0.53172066 -0.73965639\n",
      " -0.53236282 -0.77965666 -0.53222496 -0.729458   -0.53223319 -0.81032803\n",
      " -0.44681282 -0.55686203 -0.44060546 -0.56599082 -0.42935439 -0.54065056\n",
      " -0.42082361 -0.52302419 -0.41983639 -0.54151126 -0.41734994 -0.53563776\n",
      "         nan         nan         nan         nan         nan         nan\n",
      "         nan         nan         nan         nan         nan         nan\n",
      " -1.21879886 -1.01067889 -1.21879258 -0.93390155 -1.21263835 -0.80852384\n",
      " -1.21265467 -0.88246065 -1.20119174 -0.83151279 -1.20119313 -0.86676119\n",
      " -1.15477204 -0.70723281 -1.15489876 -0.68891371 -1.13535476 -0.63021154\n",
      " -1.13510699 -0.70430022 -1.10054965 -0.68485284 -1.10015916 -0.64063603]\n",
      "  warnings.warn(\n",
      "C:\\Users\\Matheus\\AppData\\Local\\Programs\\Python\\Python310\\lib\\site-packages\\sklearn\\model_selection\\_search.py:969: UserWarning: One or more of the train scores are non-finite: [        nan         nan         nan         nan         nan         nan\n",
      "         nan         nan         nan         nan         nan         nan\n",
      " -0.47924059 -0.69642362 -0.47996258 -0.67366536 -0.47929511 -0.74824591\n",
      " -0.4800171  -0.76334083 -0.48027533 -0.67033951 -0.48051095 -0.70689936\n",
      " -0.20546964 -0.40615909 -0.21827112 -0.443111   -0.21046703 -0.39781247\n",
      " -0.22079346 -0.44029058 -0.22326762 -0.49315361 -0.22635751 -0.44513692\n",
      "         nan         nan         nan         nan         nan         nan\n",
      "         nan         nan         nan         nan         nan         nan\n",
      " -0.47924059 -0.68932057 -0.47996258 -0.69354354 -0.47929511 -0.7164356\n",
      " -0.4800171  -0.72310927 -0.48027533 -0.65227147 -0.48051095 -0.70946869\n",
      " -0.20546964 -0.45441151 -0.21827112 -0.44758639 -0.21046744 -0.46729092\n",
      " -0.22079346 -0.47623141 -0.22326762 -0.44889083 -0.22635751 -0.43903406\n",
      "         nan         nan         nan         nan         nan         nan\n",
      "         nan         nan         nan         nan         nan         nan\n",
      " -0.51010784 -0.73917387 -0.51066937 -0.72508451 -0.51039929 -0.73072626\n",
      " -0.51085157 -0.77308045 -0.51060769 -0.73661566 -0.51099696 -0.80041916\n",
      " -0.24386376 -0.47828127 -0.25423466 -0.52361397 -0.2532714  -0.47210594\n",
      " -0.26373451 -0.48274345 -0.26935298 -0.49993995 -0.27203059 -0.50064545\n",
      "         nan         nan         nan         nan         nan         nan\n",
      "         nan         nan         nan         nan         nan         nan\n",
      " -1.21003319 -1.00747219 -1.21003349 -0.92946657 -1.20482666 -0.80134172\n",
      " -1.20483485 -0.87602046 -1.19406157 -0.81811984 -1.1940773  -0.86649554\n",
      " -1.14579708 -0.68553714 -1.1459104  -0.67557414 -1.12755224 -0.59714076\n",
      " -1.12777774 -0.67076194 -1.09680184 -0.65418977 -1.09709021 -0.60229595]\n",
      "  warnings.warn(\n"
     ]
    },
    {
     "data": {
      "text/plain": [
       "DecisionTreeRegressor(criterion='friedman_mse', max_depth=10,\n",
       "                      min_samples_leaf=4, min_samples_split=10)"
      ]
     },
     "execution_count": 32,
     "metadata": {},
     "output_type": "execute_result"
    }
   ],
   "source": [
    "param_grid = [\n",
    "{'criterion': [\"squared_error\", \"friedman_mse\", \"absolute_error\", \"poisson\"], 'splitter': ['best', 'random'], 'max_depth': [0, 5, 10], 'min_samples_split': [2, 10], 'min_samples_leaf': [1, 2, 4]},]\n",
    "\n",
    "\n",
    "dt_reg = DecisionTreeRegressor()\n",
    "grid_search = GridSearchCV(dt_reg, param_grid, cv=5,\n",
    "scoring='neg_mean_squared_error',\n",
    "return_train_score=True)\n",
    "grid_search.fit(X_train, y_train.values.ravel())\n",
    "dt_reg_opt = DecisionTreeRegressor()\n",
    "dt_reg_opt.set_params(**grid_search.best_params_)"
   ]
  },
  {
   "cell_type": "code",
   "execution_count": 33,
   "metadata": {},
   "outputs": [
    {
     "name": "stdout",
     "output_type": "stream",
     "text": [
      "MSE =  0.3808632458395553\n",
      "RMSE =  0.617141187929922\n"
     ]
    }
   ],
   "source": [
    "dt_reg_opt.fit(X_train, y_train.values.ravel())\n",
    "y_pred = dt_reg_opt.predict(X_test)\n",
    "\n",
    "lin_mse = mean_squared_error(y_test, y_pred)\n",
    "\n",
    "print(\"MSE = \", lin_mse)\n",
    "print(\"RMSE = \", np.sqrt(lin_mse))"
   ]
  },
  {
   "cell_type": "markdown",
   "metadata": {},
   "source": [
    "# Notes\n",
    "\n",
    "## Why using Ravel on Random Forest \n",
    "\n",
    "Porque usar values.ravel()\n",
    "\n",
    "Explanation:\n",
    "\n",
    ".values will give the values in a numpy array (shape: (n,1))\n",
    "\n",
    ".ravel will convert that array shape to (n, ) (i.e. flatten it)"
   ]
  }
 ],
 "metadata": {
  "interpreter": {
   "hash": "a10458a105a8e79ddae6e87d8d7ac092a033c24b6f91712e92075243430a1e09"
  },
  "kernelspec": {
   "display_name": "Python 3.10.4 64-bit",
   "language": "python",
   "name": "python3"
  },
  "language_info": {
   "codemirror_mode": {
    "name": "ipython",
    "version": 3
   },
   "file_extension": ".py",
   "mimetype": "text/x-python",
   "name": "python",
   "nbconvert_exporter": "python",
   "pygments_lexer": "ipython3",
   "version": "3.10.4"
  },
  "orig_nbformat": 4
 },
 "nbformat": 4,
 "nbformat_minor": 2
}
